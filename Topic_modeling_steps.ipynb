{
  "nbformat": 4,
  "nbformat_minor": 0,
  "metadata": {
    "colab": {
      "provenance": [],
      "mount_file_id": "1QwoxRtVKfJlL0FocoVte2tRuFYPpChei",
      "authorship_tag": "ABX9TyNgaKf9+1rJdD0zU11N48nD",
      "include_colab_link": true
    },
    "kernelspec": {
      "name": "python3",
      "display_name": "Python 3"
    },
    "language_info": {
      "name": "python"
    }
  },
  "cells": [
    {
      "cell_type": "markdown",
      "metadata": {
        "id": "view-in-github",
        "colab_type": "text"
      },
      "source": [
        "<a href=\"https://colab.research.google.com/github/ajit04022000/Topic_Modeling/blob/main/Topic_modeling_steps.ipynb\" target=\"_parent\"><img src=\"https://colab.research.google.com/assets/colab-badge.svg\" alt=\"Open In Colab\"/></a>"
      ]
    },
    {
      "cell_type": "code",
      "source": [
        "import numpy as np\n",
        "import pandas as pd\n",
        "from IPython.display import display\n",
        "from tqdm import tqdm\n",
        "from collections import Counter\n",
        "import ast\n",
        "\n",
        "import matplotlib.pyplot as plt\n",
        "import matplotlib.mlab as mlab\n",
        "import seaborn as sb\n",
        "\n",
        "from sklearn.feature_extraction.text import CountVectorizer\n",
        "from textblob import TextBlob\n",
        "import scipy.stats as stats\n",
        "\n",
        "from sklearn.decomposition import TruncatedSVD\n",
        "from sklearn.decomposition import LatentDirichletAllocation\n",
        "from sklearn.manifold import TSNE\n",
        "\n",
        "%matplotlib inline"
      ],
      "metadata": {
        "id": "v06ST4LLfuC7"
      },
      "execution_count": 3,
      "outputs": []
    },
    {
      "cell_type": "code",
      "source": [
        "datafile = '/content/drive/MyDrive/8)TOPIC MODELING/abcnews-date-text.csv'\n",
        "raw_data = pd.read_csv(datafile, parse_dates=[0], infer_datetime_format=True)\n",
        "\n",
        "reindexed_data = raw_data['headline_text']\n",
        "# reindexed_data.index = raw_data['publish_date']\n",
        "\n",
        "raw_data.head()"
      ],
      "metadata": {
        "colab": {
          "base_uri": "https://localhost:8080/",
          "height": 206
        },
        "id": "F4TnIuLxg_B8",
        "outputId": "87e3c289-7c16-476a-bb04-fddef560b174"
      },
      "execution_count": 16,
      "outputs": [
        {
          "output_type": "execute_result",
          "data": {
            "text/plain": [
              "  publish_date                                      headline_text\n",
              "0   2003-02-19  aba decides against community broadcasting lic...\n",
              "1   2003-02-19     act fire witnesses must be aware of defamation\n",
              "2   2003-02-19     a g calls for infrastructure protection summit\n",
              "3   2003-02-19           air nz staff in aust strike for pay rise\n",
              "4   2003-02-19      air nz strike to affect australian travellers"
            ],
            "text/html": [
              "\n",
              "  <div id=\"df-10ec0106-2706-440f-90ac-2875cafebe98\">\n",
              "    <div class=\"colab-df-container\">\n",
              "      <div>\n",
              "<style scoped>\n",
              "    .dataframe tbody tr th:only-of-type {\n",
              "        vertical-align: middle;\n",
              "    }\n",
              "\n",
              "    .dataframe tbody tr th {\n",
              "        vertical-align: top;\n",
              "    }\n",
              "\n",
              "    .dataframe thead th {\n",
              "        text-align: right;\n",
              "    }\n",
              "</style>\n",
              "<table border=\"1\" class=\"dataframe\">\n",
              "  <thead>\n",
              "    <tr style=\"text-align: right;\">\n",
              "      <th></th>\n",
              "      <th>publish_date</th>\n",
              "      <th>headline_text</th>\n",
              "    </tr>\n",
              "  </thead>\n",
              "  <tbody>\n",
              "    <tr>\n",
              "      <th>0</th>\n",
              "      <td>2003-02-19</td>\n",
              "      <td>aba decides against community broadcasting lic...</td>\n",
              "    </tr>\n",
              "    <tr>\n",
              "      <th>1</th>\n",
              "      <td>2003-02-19</td>\n",
              "      <td>act fire witnesses must be aware of defamation</td>\n",
              "    </tr>\n",
              "    <tr>\n",
              "      <th>2</th>\n",
              "      <td>2003-02-19</td>\n",
              "      <td>a g calls for infrastructure protection summit</td>\n",
              "    </tr>\n",
              "    <tr>\n",
              "      <th>3</th>\n",
              "      <td>2003-02-19</td>\n",
              "      <td>air nz staff in aust strike for pay rise</td>\n",
              "    </tr>\n",
              "    <tr>\n",
              "      <th>4</th>\n",
              "      <td>2003-02-19</td>\n",
              "      <td>air nz strike to affect australian travellers</td>\n",
              "    </tr>\n",
              "  </tbody>\n",
              "</table>\n",
              "</div>\n",
              "      <button class=\"colab-df-convert\" onclick=\"convertToInteractive('df-10ec0106-2706-440f-90ac-2875cafebe98')\"\n",
              "              title=\"Convert this dataframe to an interactive table.\"\n",
              "              style=\"display:none;\">\n",
              "        \n",
              "  <svg xmlns=\"http://www.w3.org/2000/svg\" height=\"24px\"viewBox=\"0 0 24 24\"\n",
              "       width=\"24px\">\n",
              "    <path d=\"M0 0h24v24H0V0z\" fill=\"none\"/>\n",
              "    <path d=\"M18.56 5.44l.94 2.06.94-2.06 2.06-.94-2.06-.94-.94-2.06-.94 2.06-2.06.94zm-11 1L8.5 8.5l.94-2.06 2.06-.94-2.06-.94L8.5 2.5l-.94 2.06-2.06.94zm10 10l.94 2.06.94-2.06 2.06-.94-2.06-.94-.94-2.06-.94 2.06-2.06.94z\"/><path d=\"M17.41 7.96l-1.37-1.37c-.4-.4-.92-.59-1.43-.59-.52 0-1.04.2-1.43.59L10.3 9.45l-7.72 7.72c-.78.78-.78 2.05 0 2.83L4 21.41c.39.39.9.59 1.41.59.51 0 1.02-.2 1.41-.59l7.78-7.78 2.81-2.81c.8-.78.8-2.07 0-2.86zM5.41 20L4 18.59l7.72-7.72 1.47 1.35L5.41 20z\"/>\n",
              "  </svg>\n",
              "      </button>\n",
              "      \n",
              "  <style>\n",
              "    .colab-df-container {\n",
              "      display:flex;\n",
              "      flex-wrap:wrap;\n",
              "      gap: 12px;\n",
              "    }\n",
              "\n",
              "    .colab-df-convert {\n",
              "      background-color: #E8F0FE;\n",
              "      border: none;\n",
              "      border-radius: 50%;\n",
              "      cursor: pointer;\n",
              "      display: none;\n",
              "      fill: #1967D2;\n",
              "      height: 32px;\n",
              "      padding: 0 0 0 0;\n",
              "      width: 32px;\n",
              "    }\n",
              "\n",
              "    .colab-df-convert:hover {\n",
              "      background-color: #E2EBFA;\n",
              "      box-shadow: 0px 1px 2px rgba(60, 64, 67, 0.3), 0px 1px 3px 1px rgba(60, 64, 67, 0.15);\n",
              "      fill: #174EA6;\n",
              "    }\n",
              "\n",
              "    [theme=dark] .colab-df-convert {\n",
              "      background-color: #3B4455;\n",
              "      fill: #D2E3FC;\n",
              "    }\n",
              "\n",
              "    [theme=dark] .colab-df-convert:hover {\n",
              "      background-color: #434B5C;\n",
              "      box-shadow: 0px 1px 3px 1px rgba(0, 0, 0, 0.15);\n",
              "      filter: drop-shadow(0px 1px 2px rgba(0, 0, 0, 0.3));\n",
              "      fill: #FFFFFF;\n",
              "    }\n",
              "  </style>\n",
              "\n",
              "      <script>\n",
              "        const buttonEl =\n",
              "          document.querySelector('#df-10ec0106-2706-440f-90ac-2875cafebe98 button.colab-df-convert');\n",
              "        buttonEl.style.display =\n",
              "          google.colab.kernel.accessAllowed ? 'block' : 'none';\n",
              "\n",
              "        async function convertToInteractive(key) {\n",
              "          const element = document.querySelector('#df-10ec0106-2706-440f-90ac-2875cafebe98');\n",
              "          const dataTable =\n",
              "            await google.colab.kernel.invokeFunction('convertToInteractive',\n",
              "                                                     [key], {});\n",
              "          if (!dataTable) return;\n",
              "\n",
              "          const docLinkHtml = 'Like what you see? Visit the ' +\n",
              "            '<a target=\"_blank\" href=https://colab.research.google.com/notebooks/data_table.ipynb>data table notebook</a>'\n",
              "            + ' to learn more about interactive tables.';\n",
              "          element.innerHTML = '';\n",
              "          dataTable['output_type'] = 'display_data';\n",
              "          await google.colab.output.renderOutput(dataTable, element);\n",
              "          const docLink = document.createElement('div');\n",
              "          docLink.innerHTML = docLinkHtml;\n",
              "          element.appendChild(docLink);\n",
              "        }\n",
              "      </script>\n",
              "    </div>\n",
              "  </div>\n",
              "  "
            ]
          },
          "metadata": {},
          "execution_count": 16
        }
      ]
    },
    {
      "cell_type": "code",
      "source": [
        "raw_data"
      ],
      "metadata": {
        "id": "ZkffkiVoik_g"
      },
      "execution_count": null,
      "outputs": []
    },
    {
      "cell_type": "code",
      "source": [
        "len(raw_data)\n",
        "print(raw_data.shape)"
      ],
      "metadata": {
        "colab": {
          "base_uri": "https://localhost:8080/"
        },
        "id": "OtVW_Y56foqG",
        "outputId": "025ee326-347f-4418-bdd1-9248f5e890bc"
      },
      "execution_count": 10,
      "outputs": [
        {
          "output_type": "stream",
          "name": "stdout",
          "text": [
            "(1226258, 2)\n"
          ]
        }
      ]
    },
    {
      "cell_type": "markdown",
      "source": [
        "### First we develop a list of the top words used across all one million headlines, giving us a glimpse into the core vocabulary of the source data. Stop words are omitted here to avoid any trivial conjunctions, prepositions, etc."
      ],
      "metadata": {
        "id": "Gu3OwbUshM0l"
      }
    },
    {
      "cell_type": "code",
      "source": [
        "# Define helper functions\n",
        "def get_top_n_words(n_top_words, count_vectorizer, text_data):\n",
        "    '''\n",
        "    returns a tuple of the top n words in a sample and their \n",
        "    accompanying counts, given a CountVectorizer object and text sample\n",
        "    '''\n",
        "    vectorized_headlines = count_vectorizer.fit_transform(text_data.values)\n",
        "    vectorized_total = np.sum(vectorized_headlines, axis=0)\n",
        "    word_indices = np.flip(np.argsort(vectorized_total)[0,:], 1)\n",
        "    word_values = np.flip(np.sort(vectorized_total)[0,:],1)\n",
        "    \n",
        "    word_vectors = np.zeros((n_top_words, vectorized_headlines.shape[1]))\n",
        "    for i in range(n_top_words):\n",
        "        word_vectors[i,word_indices[0,i]] = 1\n",
        "\n",
        "    words = [word[0].encode('ascii').decode('utf-8') for \n",
        "             word in count_vectorizer.inverse_transform(word_vectors)]\n",
        "\n",
        "    return (words, word_values[0,:n_top_words].tolist()[0])"
      ],
      "metadata": {
        "id": "_Q6VgTaSg0KV"
      },
      "execution_count": 12,
      "outputs": []
    },
    {
      "cell_type": "code",
      "source": [
        "count_vectorizer = CountVectorizer(stop_words='english')\n",
        "words, word_values = get_top_n_words(n_top_words=15,\n",
        "                                     count_vectorizer=count_vectorizer, \n",
        "                                     text_data=reindexed_data)\n",
        "\n",
        "fig, ax = plt.subplots(figsize=(16,8))\n",
        "ax.bar(range(len(words)), word_values)\n",
        "ax.set_xticks(range(len(words)))\n",
        "ax.set_xticklabels(words, rotation='vertical')\n",
        "ax.set_title('Top words in headlines dataset (excluding stop words)')\n",
        "ax.set_xlabel('Word')\n",
        "ax.set_ylabel('Number of occurences')\n",
        "plt.show()"
      ],
      "metadata": {
        "colab": {
          "base_uri": "https://localhost:8080/",
          "height": 553
        },
        "id": "DvtcuGQIhZAW",
        "outputId": "d7cc138a-a699-4267-d6fc-fce3d22c9fa0"
      },
      "execution_count": 13,
      "outputs": [
        {
          "output_type": "display_data",
          "data": {
            "text/plain": [
              "<Figure size 1152x576 with 1 Axes>"
            ],
            "image/png": "[encoded data removed]"
          },
          "metadata": {
            "needs_background": "light"
          }
        }
      ]
    },
    {
      "cell_type": "code",
      "source": [
        "small_count_vectorizer = CountVectorizer(stop_words='english', max_features=4000)\n",
        "small_text_sample = reindexed_data.sample(n=10000, random_state=0).values\n",
        "\n",
        "print('Headline before vectorization: {}'.format(small_text_sample[123]))\n",
        "\n",
        "small_document_term_matrix = small_count_vectorizer.fit_transform(small_text_sample)\n",
        "\n",
        "print('Headline after vectorization: \\n{}'.format(small_document_term_matrix[123]))"
      ],
      "metadata": {
        "colab": {
          "base_uri": "https://localhost:8080/"
        },
        "id": "tqiZTg2phdi2",
        "outputId": "8250f626-e0ec-447e-d0fd-2d67a344ec28"
      },
      "execution_count": 14,
      "outputs": [
        {
          "output_type": "stream",
          "name": "stdout",
          "text": [
            "Headline before vectorization: man jailed for theft of police files\n",
            "Headline after vectorization: \n",
            "  (0, 2196)\t1\n",
            "  (0, 2662)\t1\n",
            "  (0, 1917)\t1\n",
            "  (0, 3596)\t1\n"
          ]
        }
      ]
    },
    {
      "cell_type": "code",
      "source": [
        "# Parameters tuning using Grid Search\n",
        "from sklearn.model_selection import GridSearchCV\n",
        "grid_params = {'n_components' : list(range(5,10))}\n",
        "\n",
        "# LDA model\n",
        "lda = LatentDirichletAllocation()\n",
        "lda_model = GridSearchCV(lda,param_grid=grid_params)\n",
        "lda_model.fit(small_document_term_matrix)\n",
        "\n",
        "# Best LDA model\n",
        "best_lda_model = lda_model.best_estimator_\n",
        "\n",
        "print(\"Best LDA model's params\" , lda_model.best_params_)\n",
        "print(\"Best log likelihood Score for the LDA model\",lda_model.best_score_)\n",
        "print(\"LDA model Perplexity on train data\", best_lda_model.perplexity(small_document_term_matrix))"
      ],
      "metadata": {
        "colab": {
          "base_uri": "https://localhost:8080/"
        },
        "id": "d8b3Mug7hl8C",
        "outputId": "79e2edc2-c191-4c23-d397-61571a30d60d"
      },
      "execution_count": 15,
      "outputs": [
        {
          "output_type": "stream",
          "name": "stdout",
          "text": [
            "Best LDA model's params {'n_components': 5}\n",
            "Best log likelihood Score for the LDA model -82776.9101535568\n",
            "LDA model Perplexity on train data 3957.530632694275\n"
          ]
        }
      ]
    },
    {
      "cell_type": "code",
      "source": [
        "dtm = count_vectorizer.fit_transform(raw_data['headline_text'])\n",
        "dtm"
      ],
      "metadata": {
        "colab": {
          "base_uri": "https://localhost:8080/"
        },
        "id": "-MqVQ2jblWFc",
        "outputId": "f3698d69-c70f-413a-cf24-55cf97d9499c"
      },
      "execution_count": 21,
      "outputs": [
        {
          "output_type": "execute_result",
          "data": {
            "text/plain": [
              "<1226258x104399 sparse matrix of type '<class 'numpy.int64'>'\n",
              "\twith 6364039 stored elements in Compressed Sparse Row format>"
            ]
          },
          "metadata": {},
          "execution_count": 21
        }
      ]
    },
    {
      "cell_type": "code",
      "source": [
        "from sklearn.decomposition import NMF\n",
        "LDA = NMF(n_components=5,random_state=42)\n",
        "LDA.fit(dtm)"
      ],
      "metadata": {
        "colab": {
          "base_uri": "https://localhost:8080/"
        },
        "id": "l9-wSdxSjqlY",
        "outputId": "ff899e41-e38e-4ec4-e832-7cfb07bad7df"
      },
      "execution_count": 33,
      "outputs": [
        {
          "output_type": "stream",
          "name": "stderr",
          "text": [
            "/usr/local/lib/python3.7/dist-packages/sklearn/decomposition/_nmf.py:294: FutureWarning: The 'init' value, when 'init=None' and n_components is less than n_samples and n_features, will be changed from 'nndsvd' to 'nndsvda' in 1.1 (renaming of 0.26).\n",
            "  FutureWarning,\n"
          ]
        },
        {
          "output_type": "execute_result",
          "data": {
            "text/plain": [
              "NMF(n_components=5, random_state=42)"
            ]
          },
          "metadata": {},
          "execution_count": 33
        }
      ]
    },
    {
      "cell_type": "code",
      "source": [
        "for index,topic in enumerate(LDA.components_):\n",
        "    print(f'THE TOP 15 WORDS FOR TOPIC #{index}')\n",
        "    print([count_vectorizer.get_feature_names()[i] for i in topic.argsort()[-15:]])\n",
        "    print('\\n')"
      ],
      "metadata": {
        "colab": {
          "base_uri": "https://localhost:8080/"
        },
        "id": "imlU-3EQhpUn",
        "outputId": "9908069a-4e9f-48a7-bd0d-9a8e25b4fac4"
      },
      "execution_count": 34,
      "outputs": [
        {
          "output_type": "stream",
          "name": "stdout",
          "text": [
            "THE TOP 15 WORDS FOR TOPIC #0\n"
          ]
        },
        {
          "output_type": "stream",
          "name": "stderr",
          "text": [
            "/usr/local/lib/python3.7/dist-packages/sklearn/utils/deprecation.py:87: FutureWarning: Function get_feature_names is deprecated; get_feature_names is deprecated in 1.0 and will be removed in 1.2. Please use get_feature_names_out instead.\n",
            "  warnings.warn(msg, category=FutureWarning)\n"
          ]
        },
        {
          "output_type": "stream",
          "name": "stdout",
          "text": [
            "['shooting', 'seek', 'arrest', 'fatal', 'say', 'hunt', 'officer', 'crash', 'car', 'death', 'search', 'missing', 'investigate', 'probe', 'police']\n",
            "\n",
            "\n",
            "THE TOP 15 WORDS FOR TOPIC #1\n",
            "['gets', 'set', 'cases', 'south', 'deal', 'centre', 'years', 'hospital', 'home', 'coronavirus', 'york', 'year', 'laws', 'zealand', 'new']\n",
            "\n",
            "\n",
            "THE TOP 15 WORDS FOR TOPIC #2\n",
            "['child', 'sydney', 'woman', 'missing', 'guilty', 'car', 'death', 'crash', 'jailed', 'dies', 'accused', 'murder', 'court', 'charged', 'man']\n",
            "\n",
            "\n",
            "THE TOP 15 WORDS FOR TOPIC #3\n",
            "['china', 'expert', 'chief', 'wont', 'group', 'opposition', 'government', 'report', 'union', 'pm', 'labor', 'trump', 'mp', 'minister', 'says']\n",
            "\n",
            "\n",
            "THE TOP 15 WORDS FOR TOPIC #4\n",
            "['rural', 'south', 'coast', 'sa', 'court', 'urged', 'health', 'wa', 'qld', 'water', 'plan', 'australia', 'nsw', 'council', 'govt']\n",
            "\n",
            "\n"
          ]
        }
      ]
    },
    {
      "cell_type": "code",
      "source": [
        "topic_results = LDA.transform(dtm)"
      ],
      "metadata": {
        "id": "OW4PQqyOmvVI"
      },
      "execution_count": 35,
      "outputs": []
    },
    {
      "cell_type": "code",
      "source": [
        "raw_data.head()"
      ],
      "metadata": {
        "colab": {
          "base_uri": "https://localhost:8080/",
          "height": 206
        },
        "id": "mcch_fSlm3Fs",
        "outputId": "a7e226be-1cb9-498a-9b7d-8a4aea578a05"
      },
      "execution_count": 36,
      "outputs": [
        {
          "output_type": "execute_result",
          "data": {
            "text/plain": [
              "  publish_date                                      headline_text  Topic\n",
              "0   2003-02-19  aba decides against community broadcasting lic...      4\n",
              "1   2003-02-19     act fire witnesses must be aware of defamation      4\n",
              "2   2003-02-19     a g calls for infrastructure protection summit      4\n",
              "3   2003-02-19           air nz staff in aust strike for pay rise      4\n",
              "4   2003-02-19      air nz strike to affect australian travellers      6"
            ],
            "text/html": [
              "\n",
              "  <div id=\"df-d5d7da1f-69fb-4635-8362-31396a448a70\">\n",
              "    <div class=\"colab-df-container\">\n",
              "      <div>\n",
              "<style scoped>\n",
              "    .dataframe tbody tr th:only-of-type {\n",
              "        vertical-align: middle;\n",
              "    }\n",
              "\n",
              "    .dataframe tbody tr th {\n",
              "        vertical-align: top;\n",
              "    }\n",
              "\n",
              "    .dataframe thead th {\n",
              "        text-align: right;\n",
              "    }\n",
              "</style>\n",
              "<table border=\"1\" class=\"dataframe\">\n",
              "  <thead>\n",
              "    <tr style=\"text-align: right;\">\n",
              "      <th></th>\n",
              "      <th>publish_date</th>\n",
              "      <th>headline_text</th>\n",
              "      <th>Topic</th>\n",
              "    </tr>\n",
              "  </thead>\n",
              "  <tbody>\n",
              "    <tr>\n",
              "      <th>0</th>\n",
              "      <td>2003-02-19</td>\n",
              "      <td>aba decides against community broadcasting lic...</td>\n",
              "      <td>4</td>\n",
              "    </tr>\n",
              "    <tr>\n",
              "      <th>1</th>\n",
              "      <td>2003-02-19</td>\n",
              "      <td>act fire witnesses must be aware of defamation</td>\n",
              "      <td>4</td>\n",
              "    </tr>\n",
              "    <tr>\n",
              "      <th>2</th>\n",
              "      <td>2003-02-19</td>\n",
              "      <td>a g calls for infrastructure protection summit</td>\n",
              "      <td>4</td>\n",
              "    </tr>\n",
              "    <tr>\n",
              "      <th>3</th>\n",
              "      <td>2003-02-19</td>\n",
              "      <td>air nz staff in aust strike for pay rise</td>\n",
              "      <td>4</td>\n",
              "    </tr>\n",
              "    <tr>\n",
              "      <th>4</th>\n",
              "      <td>2003-02-19</td>\n",
              "      <td>air nz strike to affect australian travellers</td>\n",
              "      <td>6</td>\n",
              "    </tr>\n",
              "  </tbody>\n",
              "</table>\n",
              "</div>\n",
              "      <button class=\"colab-df-convert\" onclick=\"convertToInteractive('df-d5d7da1f-69fb-4635-8362-31396a448a70')\"\n",
              "              title=\"Convert this dataframe to an interactive table.\"\n",
              "              style=\"display:none;\">\n",
              "        \n",
              "  <svg xmlns=\"http://www.w3.org/2000/svg\" height=\"24px\"viewBox=\"0 0 24 24\"\n",
              "       width=\"24px\">\n",
              "    <path d=\"M0 0h24v24H0V0z\" fill=\"none\"/>\n",
              "    <path d=\"M18.56 5.44l.94 2.06.94-2.06 2.06-.94-2.06-.94-.94-2.06-.94 2.06-2.06.94zm-11 1L8.5 8.5l.94-2.06 2.06-.94-2.06-.94L8.5 2.5l-.94 2.06-2.06.94zm10 10l.94 2.06.94-2.06 2.06-.94-2.06-.94-.94-2.06-.94 2.06-2.06.94z\"/><path d=\"M17.41 7.96l-1.37-1.37c-.4-.4-.92-.59-1.43-.59-.52 0-1.04.2-1.43.59L10.3 9.45l-7.72 7.72c-.78.78-.78 2.05 0 2.83L4 21.41c.39.39.9.59 1.41.59.51 0 1.02-.2 1.41-.59l7.78-7.78 2.81-2.81c.8-.78.8-2.07 0-2.86zM5.41 20L4 18.59l7.72-7.72 1.47 1.35L5.41 20z\"/>\n",
              "  </svg>\n",
              "      </button>\n",
              "      \n",
              "  <style>\n",
              "    .colab-df-container {\n",
              "      display:flex;\n",
              "      flex-wrap:wrap;\n",
              "      gap: 12px;\n",
              "    }\n",
              "\n",
              "    .colab-df-convert {\n",
              "      background-color: #E8F0FE;\n",
              "      border: none;\n",
              "      border-radius: 50%;\n",
              "      cursor: pointer;\n",
              "      display: none;\n",
              "      fill: #1967D2;\n",
              "      height: 32px;\n",
              "      padding: 0 0 0 0;\n",
              "      width: 32px;\n",
              "    }\n",
              "\n",
              "    .colab-df-convert:hover {\n",
              "      background-color: #E2EBFA;\n",
              "      box-shadow: 0px 1px 2px rgba(60, 64, 67, 0.3), 0px 1px 3px 1px rgba(60, 64, 67, 0.15);\n",
              "      fill: #174EA6;\n",
              "    }\n",
              "\n",
              "    [theme=dark] .colab-df-convert {\n",
              "      background-color: #3B4455;\n",
              "      fill: #D2E3FC;\n",
              "    }\n",
              "\n",
              "    [theme=dark] .colab-df-convert:hover {\n",
              "      background-color: #434B5C;\n",
              "      box-shadow: 0px 1px 3px 1px rgba(0, 0, 0, 0.15);\n",
              "      filter: drop-shadow(0px 1px 2px rgba(0, 0, 0, 0.3));\n",
              "      fill: #FFFFFF;\n",
              "    }\n",
              "  </style>\n",
              "\n",
              "      <script>\n",
              "        const buttonEl =\n",
              "          document.querySelector('#df-d5d7da1f-69fb-4635-8362-31396a448a70 button.colab-df-convert');\n",
              "        buttonEl.style.display =\n",
              "          google.colab.kernel.accessAllowed ? 'block' : 'none';\n",
              "\n",
              "        async function convertToInteractive(key) {\n",
              "          const element = document.querySelector('#df-d5d7da1f-69fb-4635-8362-31396a448a70');\n",
              "          const dataTable =\n",
              "            await google.colab.kernel.invokeFunction('convertToInteractive',\n",
              "                                                     [key], {});\n",
              "          if (!dataTable) return;\n",
              "\n",
              "          const docLinkHtml = 'Like what you see? Visit the ' +\n",
              "            '<a target=\"_blank\" href=https://colab.research.google.com/notebooks/data_table.ipynb>data table notebook</a>'\n",
              "            + ' to learn more about interactive tables.';\n",
              "          element.innerHTML = '';\n",
              "          dataTable['output_type'] = 'display_data';\n",
              "          await google.colab.output.renderOutput(dataTable, element);\n",
              "          const docLink = document.createElement('div');\n",
              "          docLink.innerHTML = docLinkHtml;\n",
              "          element.appendChild(docLink);\n",
              "        }\n",
              "      </script>\n",
              "    </div>\n",
              "  </div>\n",
              "  "
            ]
          },
          "metadata": {},
          "execution_count": 36
        }
      ]
    },
    {
      "cell_type": "code",
      "source": [
        "topic_results.argmax(axis=1)"
      ],
      "metadata": {
        "colab": {
          "base_uri": "https://localhost:8080/"
        },
        "id": "ltuZ156SnCsN",
        "outputId": "abd57a35-a24d-4b64-d974-133ea95eddfa"
      },
      "execution_count": 37,
      "outputs": [
        {
          "output_type": "execute_result",
          "data": {
            "text/plain": [
              "array([4, 4, 4, ..., 1, 4, 4])"
            ]
          },
          "metadata": {},
          "execution_count": 37
        }
      ]
    },
    {
      "cell_type": "code",
      "source": [
        "raw_data['Topic'] = topic_results.argmax(axis=1)"
      ],
      "metadata": {
        "id": "9Oair8acnQGh"
      },
      "execution_count": 38,
      "outputs": []
    },
    {
      "cell_type": "code",
      "source": [
        "raw_data.head(10)"
      ],
      "metadata": {
        "colab": {
          "base_uri": "https://localhost:8080/",
          "height": 363
        },
        "id": "VBTMsib7nVi5",
        "outputId": "e1f07e76-8816-4d51-df38-12e21477455c"
      },
      "execution_count": 39,
      "outputs": [
        {
          "output_type": "execute_result",
          "data": {
            "text/plain": [
              "  publish_date                                      headline_text  Topic\n",
              "0   2003-02-19  aba decides against community broadcasting lic...      4\n",
              "1   2003-02-19     act fire witnesses must be aware of defamation      4\n",
              "2   2003-02-19     a g calls for infrastructure protection summit      4\n",
              "3   2003-02-19           air nz staff in aust strike for pay rise      4\n",
              "4   2003-02-19      air nz strike to affect australian travellers      4\n",
              "5   2003-02-19                  ambitious olsson wins triple jump      4\n",
              "6   2003-02-19         antic delighted with record breaking barca      4\n",
              "7   2003-02-19  aussie qualifier stosur wastes four memphis match      4\n",
              "8   2003-02-19       aust addresses un security council over iraq      4\n",
              "9   2003-02-19         australia is locked into war timetable opp      4"
            ],
            "text/html": [
              "\n",
              "  <div id=\"df-17253d03-5984-4604-ba71-399f2d8cfe24\">\n",
              "    <div class=\"colab-df-container\">\n",
              "      <div>\n",
              "<style scoped>\n",
              "    .dataframe tbody tr th:only-of-type {\n",
              "        vertical-align: middle;\n",
              "    }\n",
              "\n",
              "    .dataframe tbody tr th {\n",
              "        vertical-align: top;\n",
              "    }\n",
              "\n",
              "    .dataframe thead th {\n",
              "        text-align: right;\n",
              "    }\n",
              "</style>\n",
              "<table border=\"1\" class=\"dataframe\">\n",
              "  <thead>\n",
              "    <tr style=\"text-align: right;\">\n",
              "      <th></th>\n",
              "      <th>publish_date</th>\n",
              "      <th>headline_text</th>\n",
              "      <th>Topic</th>\n",
              "    </tr>\n",
              "  </thead>\n",
              "  <tbody>\n",
              "    <tr>\n",
              "      <th>0</th>\n",
              "      <td>2003-02-19</td>\n",
              "      <td>aba decides against community broadcasting lic...</td>\n",
              "      <td>4</td>\n",
              "    </tr>\n",
              "    <tr>\n",
              "      <th>1</th>\n",
              "      <td>2003-02-19</td>\n",
              "      <td>act fire witnesses must be aware of defamation</td>\n",
              "      <td>4</td>\n",
              "    </tr>\n",
              "    <tr>\n",
              "      <th>2</th>\n",
              "      <td>2003-02-19</td>\n",
              "      <td>a g calls for infrastructure protection summit</td>\n",
              "      <td>4</td>\n",
              "    </tr>\n",
              "    <tr>\n",
              "      <th>3</th>\n",
              "      <td>2003-02-19</td>\n",
              "      <td>air nz staff in aust strike for pay rise</td>\n",
              "      <td>4</td>\n",
              "    </tr>\n",
              "    <tr>\n",
              "      <th>4</th>\n",
              "      <td>2003-02-19</td>\n",
              "      <td>air nz strike to affect australian travellers</td>\n",
              "      <td>4</td>\n",
              "    </tr>\n",
              "    <tr>\n",
              "      <th>5</th>\n",
              "      <td>2003-02-19</td>\n",
              "      <td>ambitious olsson wins triple jump</td>\n",
              "      <td>4</td>\n",
              "    </tr>\n",
              "    <tr>\n",
              "      <th>6</th>\n",
              "      <td>2003-02-19</td>\n",
              "      <td>antic delighted with record breaking barca</td>\n",
              "      <td>4</td>\n",
              "    </tr>\n",
              "    <tr>\n",
              "      <th>7</th>\n",
              "      <td>2003-02-19</td>\n",
              "      <td>aussie qualifier stosur wastes four memphis match</td>\n",
              "      <td>4</td>\n",
              "    </tr>\n",
              "    <tr>\n",
              "      <th>8</th>\n",
              "      <td>2003-02-19</td>\n",
              "      <td>aust addresses un security council over iraq</td>\n",
              "      <td>4</td>\n",
              "    </tr>\n",
              "    <tr>\n",
              "      <th>9</th>\n",
              "      <td>2003-02-19</td>\n",
              "      <td>australia is locked into war timetable opp</td>\n",
              "      <td>4</td>\n",
              "    </tr>\n",
              "  </tbody>\n",
              "</table>\n",
              "</div>\n",
              "      <button class=\"colab-df-convert\" onclick=\"convertToInteractive('df-17253d03-5984-4604-ba71-399f2d8cfe24')\"\n",
              "              title=\"Convert this dataframe to an interactive table.\"\n",
              "              style=\"display:none;\">\n",
              "        \n",
              "  <svg xmlns=\"http://www.w3.org/2000/svg\" height=\"24px\"viewBox=\"0 0 24 24\"\n",
              "       width=\"24px\">\n",
              "    <path d=\"M0 0h24v24H0V0z\" fill=\"none\"/>\n",
              "    <path d=\"M18.56 5.44l.94 2.06.94-2.06 2.06-.94-2.06-.94-.94-2.06-.94 2.06-2.06.94zm-11 1L8.5 8.5l.94-2.06 2.06-.94-2.06-.94L8.5 2.5l-.94 2.06-2.06.94zm10 10l.94 2.06.94-2.06 2.06-.94-2.06-.94-.94-2.06-.94 2.06-2.06.94z\"/><path d=\"M17.41 7.96l-1.37-1.37c-.4-.4-.92-.59-1.43-.59-.52 0-1.04.2-1.43.59L10.3 9.45l-7.72 7.72c-.78.78-.78 2.05 0 2.83L4 21.41c.39.39.9.59 1.41.59.51 0 1.02-.2 1.41-.59l7.78-7.78 2.81-2.81c.8-.78.8-2.07 0-2.86zM5.41 20L4 18.59l7.72-7.72 1.47 1.35L5.41 20z\"/>\n",
              "  </svg>\n",
              "      </button>\n",
              "      \n",
              "  <style>\n",
              "    .colab-df-container {\n",
              "      display:flex;\n",
              "      flex-wrap:wrap;\n",
              "      gap: 12px;\n",
              "    }\n",
              "\n",
              "    .colab-df-convert {\n",
              "      background-color: #E8F0FE;\n",
              "      border: none;\n",
              "      border-radius: 50%;\n",
              "      cursor: pointer;\n",
              "      display: none;\n",
              "      fill: #1967D2;\n",
              "      height: 32px;\n",
              "      padding: 0 0 0 0;\n",
              "      width: 32px;\n",
              "    }\n",
              "\n",
              "    .colab-df-convert:hover {\n",
              "      background-color: #E2EBFA;\n",
              "      box-shadow: 0px 1px 2px rgba(60, 64, 67, 0.3), 0px 1px 3px 1px rgba(60, 64, 67, 0.15);\n",
              "      fill: #174EA6;\n",
              "    }\n",
              "\n",
              "    [theme=dark] .colab-df-convert {\n",
              "      background-color: #3B4455;\n",
              "      fill: #D2E3FC;\n",
              "    }\n",
              "\n",
              "    [theme=dark] .colab-df-convert:hover {\n",
              "      background-color: #434B5C;\n",
              "      box-shadow: 0px 1px 3px 1px rgba(0, 0, 0, 0.15);\n",
              "      filter: drop-shadow(0px 1px 2px rgba(0, 0, 0, 0.3));\n",
              "      fill: #FFFFFF;\n",
              "    }\n",
              "  </style>\n",
              "\n",
              "      <script>\n",
              "        const buttonEl =\n",
              "          document.querySelector('#df-17253d03-5984-4604-ba71-399f2d8cfe24 button.colab-df-convert');\n",
              "        buttonEl.style.display =\n",
              "          google.colab.kernel.accessAllowed ? 'block' : 'none';\n",
              "\n",
              "        async function convertToInteractive(key) {\n",
              "          const element = document.querySelector('#df-17253d03-5984-4604-ba71-399f2d8cfe24');\n",
              "          const dataTable =\n",
              "            await google.colab.kernel.invokeFunction('convertToInteractive',\n",
              "                                                     [key], {});\n",
              "          if (!dataTable) return;\n",
              "\n",
              "          const docLinkHtml = 'Like what you see? Visit the ' +\n",
              "            '<a target=\"_blank\" href=https://colab.research.google.com/notebooks/data_table.ipynb>data table notebook</a>'\n",
              "            + ' to learn more about interactive tables.';\n",
              "          element.innerHTML = '';\n",
              "          dataTable['output_type'] = 'display_data';\n",
              "          await google.colab.output.renderOutput(dataTable, element);\n",
              "          const docLink = document.createElement('div');\n",
              "          docLink.innerHTML = docLinkHtml;\n",
              "          element.appendChild(docLink);\n",
              "        }\n",
              "      </script>\n",
              "    </div>\n",
              "  </div>\n",
              "  "
            ]
          },
          "metadata": {},
          "execution_count": 39
        }
      ]
    },
    {
      "cell_type": "code",
      "source": [
        "raw_data['Topic'].nunique()"
      ],
      "metadata": {
        "colab": {
          "base_uri": "https://localhost:8080/"
        },
        "id": "JU3-fmpmnX75",
        "outputId": "37559417-e35e-4c33-9cb3-b3594cbe0d8e"
      },
      "execution_count": 40,
      "outputs": [
        {
          "output_type": "execute_result",
          "data": {
            "text/plain": [
              "5"
            ]
          },
          "metadata": {},
          "execution_count": 40
        }
      ]
    },
    {
      "cell_type": "code",
      "source": [
        "!pip install pyLDAvis"
      ],
      "metadata": {
        "id": "QBUg_87cngLg"
      },
      "execution_count": null,
      "outputs": []
    },
    {
      "cell_type": "code",
      "source": [
        "import pyLDAvis.sklearn\n",
        "\n",
        "pyLDAvis.enable_notebook()"
      ],
      "metadata": {
        "id": "yHAjMXdknw8X"
      },
      "execution_count": null,
      "outputs": []
    },
    {
      "cell_type": "code",
      "source": [
        "lda_panel = pyLDAvis.sklearn.prepare(best_lda_model, small_document_term_matrix,small_count_vectorizer,mds='tsne')\n",
        "lda_panel"
      ],
      "metadata": {
        "colab": {
          "base_uri": "https://localhost:8080/",
          "height": 1000
        },
        "id": "igcgVKuDn16b",
        "outputId": "459961bc-92d8-49da-cedc-b5b5c2d2e6e8"
      },
      "execution_count": 43,
      "outputs": [
        {
          "output_type": "stream",
          "name": "stderr",
          "text": [
            "/usr/local/lib/python3.7/dist-packages/sklearn/utils/deprecation.py:87: FutureWarning: Function get_feature_names is deprecated; get_feature_names is deprecated in 1.0 and will be removed in 1.2. Please use get_feature_names_out instead.\n",
            "  warnings.warn(msg, category=FutureWarning)\n",
            "/usr/local/lib/python3.7/dist-packages/pyLDAvis/_prepare.py:247: FutureWarning: In a future version of pandas all arguments of DataFrame.drop except for the argument 'labels' will be keyword-only\n",
            "  by='saliency', ascending=False).head(R).drop('saliency', 1)\n",
            "/usr/local/lib/python3.7/dist-packages/sklearn/manifold/_t_sne.py:783: FutureWarning: The default initialization in TSNE will change from 'random' to 'pca' in 1.2.\n",
            "  FutureWarning,\n",
            "/usr/local/lib/python3.7/dist-packages/sklearn/manifold/_t_sne.py:793: FutureWarning: The default learning rate in TSNE will change from 200.0 to 'auto' in 1.2.\n",
            "  FutureWarning,\n",
            "/usr/local/lib/python3.7/dist-packages/sklearn/manifold/_t_sne.py:827: FutureWarning: 'square_distances' has been introduced in 0.24 to help phase out legacy squaring behavior. The 'legacy' setting will be removed in 1.1 (renaming of 0.26), and the default setting will be changed to True. In 1.3, 'square_distances' will be removed altogether, and distances will be squared by default. Set 'square_distances'=True to silence this warning.\n",
            "  FutureWarning,\n"
          ]
        },
        {
          "output_type": "execute_result",
          "data": {
            "text/plain": [
              "PreparedData(topic_coordinates=                x           y  topics  cluster       Freq\n",
              "topic                                                    \n",
              "0      150.222153  -72.269554       1        1  20.729127\n",
              "4       51.163364 -159.968018       2        1  20.550188\n",
              "3      -73.144554   21.523815       3        1  19.801846\n",
              "2      -66.410133 -110.606438       4        1  19.729677\n",
              "1       54.417324   12.443444       5        1  19.189162, topic_info=           Term        Freq       Total Category  logprob  loglift\n",
              "2196        man  228.000000  228.000000  Default  30.0000  30.0000\n",
              "892       court  113.000000  113.000000  Default  29.0000  29.0000\n",
              "1872  interview  105.000000  105.000000  Default  28.0000  28.0000\n",
              "3515     sydney   97.000000   97.000000  Default  27.0000  27.0000\n",
              "2365     murder   87.000000   87.000000  Default  26.0000  26.0000\n",
              "...         ...         ...         ...      ...      ...      ...\n",
              "3095         sa   28.127918   76.831956   Topic5  -5.6419   0.6460\n",
              "2803        qld   29.257882   97.862803   Topic5  -5.6025   0.4434\n",
              "2662     police   36.657560  304.372351   Topic5  -5.3771  -0.4658\n",
              "1595       govt   27.999647  122.251415   Topic5  -5.6465   0.1769\n",
              "2435        nsw   27.500876  125.221466   Topic5  -5.6645   0.1350\n",
              "\n",
              "[311 rows x 6 columns], token_table=      Topic      Freq     Term\n",
              "term                          \n",
              "53        1  0.972949       50\n",
              "66        2  0.753755    abuse\n",
              "66        4  0.231925    abuse\n",
              "75        1  0.988387  accused\n",
              "80        2  0.939349      act\n",
              "...     ...       ...      ...\n",
              "3962      4  0.780973     work\n",
              "3971      2  0.724322    world\n",
              "3971      4  0.217297    world\n",
              "3971      5  0.057946    world\n",
              "3995      4  0.927935  zealand\n",
              "\n",
              "[465 rows x 3 columns], R=30, lambda_step=0.01, plot_opts={'xlab': 'PC1', 'ylab': 'PC2'}, topic_order=[1, 5, 4, 3, 2])"
            ],
            "text/html": [
              "\n",
              "<link rel=\"stylesheet\" type=\"text/css\" href=\"https://cdn.jsdelivr.net/gh/bmabey/pyLDAvis@3.3.1/pyLDAvis/js/ldavis.v1.0.0.css\">\n",
              "\n",
              "\n",
              "<div id=\"ldavis_el561402518433192488885793208\"></div>\n",
              "<script type=\"text/javascript\">\n",
              "\n",
              "var ldavis_el561402518433192488885793208_data = {\"mdsDat\": {\"x\": [150.22215270996094, 51.16336441040039, -73.1445541381836, -66.4101333618164, 54.41732406616211], \"y\": [-72.2695541381836, -159.968017578125, 21.523815155029297, -110.60643768310547, 12.44344425201416], \"topics\": [1, 2, 3, 4, 5], \"cluster\": [1, 1, 1, 1, 1], \"Freq\": [20.729127250477795, 20.550187529099524, 19.801846035424816, 19.729676939071126, 19.189162245926745]}, \"tinfo\": {\"Term\": [\"man\", \"court\", \"interview\", \"sydney\", \"murder\", \"day\", \"plan\", \"killed\", \"accused\", \"charged\", \"rural\", \"police\", \"report\", \"deal\", \"market\", \"rise\", \"child\", \"drug\", \"test\", \"sex\", \"hospital\", \"car\", \"changes\", \"jailed\", \"woman\", \"missing\", \"new\", \"cup\", \"arrested\", \"act\", \"man\", \"court\", \"sydney\", \"accused\", \"charged\", \"jailed\", \"arrested\", \"child\", \"bail\", \"western\", \"teen\", \"shooting\", \"charge\", \"murder\", \"leaders\", \"men\", \"stabbing\", \"closer\", \"mother\", \"drink\", \"numbers\", \"drug\", \"pleads\", \"driving\", \"kill\", \"dogs\", \"turnbull\", \"50\", \"problems\", \"stop\", \"charges\", \"guilty\", \"sex\", \"gold\", \"driver\", \"train\", \"woman\", \"case\", \"blaze\", \"dies\", \"attack\", \"police\", \"alleged\", \"coast\", \"car\", \"death\", \"trial\", \"new\", \"melbourne\", \"face\", \"plans\", \"water\", \"search\", \"day\", \"interview\", \"deal\", \"market\", \"test\", \"plane\", \"dollar\", \"asylum\", \"announces\", \"share\", \"donald\", \"sri\", \"trade\", \"telstra\", \"ends\", \"higher\", \"violence\", \"seekers\", \"tipped\", \"aussies\", \"orders\", \"dairy\", \"transport\", \"analysis\", \"lanka\", \"church\", \"survey\", \"trading\", \"uranium\", \"bank\", \"act\", \"domestic\", \"cup\", \"sale\", \"afl\", \"million\", \"school\", \"world\", \"aussie\", \"denies\", \"high\", \"boost\", \"trump\", \"gets\", \"queensland\", \"new\", \"australia\", \"govt\", \"abuse\", \"council\", \"australian\", \"home\", \"water\", \"government\", \"final\", \"killed\", \"changes\", \"opposition\", \"bushfire\", \"decision\", \"debate\", \"victory\", \"law\", \"mental\", \"conditions\", \"emergency\", \"planned\", \"match\", \"education\", \"finds\", \"quake\", \"link\", \"doctors\", \"sell\", \"rules\", \"storms\", \"pipeline\", \"tests\", \"book\", \"threaten\", \"gas\", \"patients\", \"response\", \"towns\", \"heads\", \"missing\", \"report\", \"pacific\", \"peter\", \"dead\", \"aid\", \"study\", \"legal\", \"air\", \"public\", \"rail\", \"crash\", \"health\", \"inquiry\", \"wa\", \"china\", \"south\", \"election\", \"police\", \"says\", \"nsw\", \"govt\", \"car\", \"defends\", \"australia\", \"canberra\", \"new\", \"housing\", \"live\", \"run\", \"assault\", \"murray\", \"hears\", \"despite\", \"shire\", \"broncos\", \"human\", \"meeting\", \"stay\", \"sexual\", \"beach\", \"grain\", \"grandstand\", \"great\", \"monday\", \"drum\", \"facebook\", \"general\", \"rural\", \"judge\", \"number\", \"zealand\", \"womens\", \"card\", \"basin\", \"competition\", \"mystery\", \"discuss\", \"plan\", \"work\", \"hospital\", \"change\", \"hit\", \"rain\", \"pakistan\", \"port\", \"climate\", \"help\", \"new\", \"qld\", \"iraq\", \"jobs\", \"fears\", \"nsw\", \"national\", \"claims\", \"police\", \"north\", \"company\", \"says\", \"council\", \"australia\", \"backs\", \"battle\", \"tourism\", \"central\", \"loss\", \"puts\", \"sought\", \"thousands\", \"rescue\", \"stolen\", \"broken\", \"march\", \"site\", \"marine\", \"howard\", \"moves\", \"private\", \"real\", \"compensation\", \"protests\", \"rise\", \"middle\", \"rock\", \"collapse\", \"joins\", \"smoking\", \"sport\", \"cruise\", \"livestock\", \"origin\", \"hour\", \"country\", \"funds\", \"visit\", \"fall\", \"federal\", \"victoria\", \"price\", \"talks\", \"uk\", \"research\", \"rudd\", \"funding\", \"tour\", \"east\", \"mp\", \"ban\", \"says\", \"north\", \"calls\", \"probe\", \"lead\", \"water\", \"nt\", \"budget\", \"south\", \"sa\", \"qld\", \"police\", \"govt\", \"nsw\"], \"Freq\": [228.0, 113.0, 105.0, 97.0, 87.0, 78.0, 104.0, 73.0, 69.0, 68.0, 70.0, 304.0, 74.0, 55.0, 55.0, 54.0, 51.0, 55.0, 50.0, 68.0, 71.0, 80.0, 44.0, 46.0, 68.0, 53.0, 243.0, 61.0, 43.0, 48.0, 227.63142293905213, 112.47507969213015, 96.27227672798469, 69.07772506486366, 68.17148221328517, 45.5057909100364, 42.787236208400195, 50.803640954312044, 28.28282060929345, 28.27670745081612, 25.56133964765776, 25.53132237795769, 21.93454405362979, 84.92852308517195, 19.212669542042555, 18.30124759258019, 17.40445569479838, 17.40103524859409, 17.40072032467775, 16.49849403126481, 16.49441097926087, 52.79571810499043, 17.306938228128747, 14.685230880218544, 14.68264435830332, 14.682338287680885, 14.68109872907179, 14.672831190360037, 13.775287669129792, 13.774210454487557, 34.89525204318591, 35.253705441494205, 57.83345540401168, 46.72797645358234, 22.22189951853415, 23.995708646089646, 52.28822232032304, 45.557187430586204, 22.88654583741275, 43.0855877894692, 43.92039987542375, 131.3774085408377, 28.651828528078926, 53.29598933366954, 49.497253848350645, 43.92392930953681, 33.59374865961288, 54.610913060943005, 31.82862289306588, 30.31454177013062, 30.547345645189424, 31.460005874074035, 28.68397326773116, 78.11824281344296, 104.14776869545129, 54.554875484175184, 54.554118130473334, 49.71975090084868, 29.17728393457048, 26.46193832653594, 26.460961286634983, 26.43226327275865, 22.835318573909635, 21.92684410961722, 21.023713225948306, 21.022297373648836, 21.00136810748053, 20.114461959783952, 17.39637078903312, 24.262002246369224, 15.586060789716868, 15.582477356397742, 14.677971885877799, 14.676912791488338, 14.673709901318752, 14.672782750566217, 13.77364719172324, 13.773399097215345, 13.772897002160516, 11.961792765637101, 11.95951970971577, 11.956581756510118, 19.622371292667072, 45.67076543841135, 16.88769055859021, 50.45741571792437, 23.892657446571874, 31.168405394436753, 22.275027366005418, 45.93879127508001, 50.056612438997526, 22.056860619416682, 28.719274098031427, 39.349209485629224, 37.57372046456867, 33.700252742527354, 30.66027030487946, 35.00676239829739, 74.39040758221854, 53.550545347835914, 49.67674900706116, 25.746337321869138, 41.787915890346, 36.731152220482514, 29.153743997895965, 27.540561779616628, 26.71176920623375, 25.408519527124213, 72.45574712925507, 44.092742179086564, 36.74079206694341, 33.114088642875124, 30.31866655910747, 26.711649573253066, 23.05209410632465, 21.222196244366245, 20.299246115209687, 18.47580140673308, 17.545271444386785, 16.645193942209666, 16.64404400253343, 15.733706317832503, 15.731902037764499, 15.721247652441571, 14.81772552241425, 14.81754522095651, 14.746049831235796, 28.571229984272414, 12.0741065492775, 12.073108983984087, 12.071746029699007, 12.069750668696928, 12.06969588547509, 30.930449751262138, 11.159556977213343, 11.158317292357596, 11.158037421676479, 11.157316589951675, 48.68096925962117, 62.080833368018084, 24.70575137410667, 18.359831453147137, 42.56780872639961, 24.803072618644016, 31.907803469624756, 24.97433522275277, 28.208043304773064, 34.06894138879566, 22.78330188889205, 50.42442983804143, 51.31854585637838, 27.421947337723203, 49.27434128561115, 35.09811920708641, 40.473458935719215, 34.27000544887084, 75.69602329598068, 52.88219797335313, 40.29370788107969, 35.618750044056625, 30.006939014526846, 25.942169865986987, 30.219323733634084, 25.84750007423694, 29.97621537907148, 36.65287592046293, 29.35730594815576, 28.44563474612605, 31.096875188096124, 25.708460291076406, 22.968927118739163, 20.239856074623923, 19.327181055735192, 17.505355975564058, 17.505240025854395, 17.504525991729682, 17.503251170381525, 18.342217879735447, 16.592100699615305, 16.591656988553954, 14.769243162987078, 14.76799142812291, 13.855893678382639, 22.47608881094849, 14.684135854971291, 12.945757303931643, 66.44571841139948, 12.031602954391078, 12.029950097116766, 11.123827352941497, 11.12119482719799, 11.11866358620678, 11.094363325354308, 10.208086287154073, 10.204650838446899, 19.551895161378663, 88.05175825238685, 42.03149169429425, 51.45042770403812, 35.61760638929728, 35.50872928114306, 30.44409464245889, 20.889795682235217, 34.460621491686496, 22.446296191863695, 33.05314705621027, 84.54071557195881, 44.77569058238705, 25.655016811506602, 25.30554670787721, 31.04492888488408, 43.155181089086845, 27.61826071339944, 27.92518968738592, 60.458500720581235, 30.429489321424995, 24.1398296178128, 38.486190095197706, 35.05983591313622, 32.402627800827005, 28.70342407378818, 25.94197981016142, 28.572722573976208, 24.051032904818577, 19.50108099939095, 19.500569664263697, 19.49949653677206, 26.575777659271488, 15.822649121435166, 15.821443506252608, 19.30754466734317, 14.899835645332594, 23.62953278678535, 13.981768652416255, 13.951082782824487, 13.061436659522323, 13.061114005705106, 13.045977825167896, 12.141350454655342, 12.14018981649354, 51.04912581123674, 11.223095931933347, 11.22025139226308, 11.218334115206172, 13.769358985237822, 10.303261873847347, 10.300941323347255, 10.29922179373395, 10.254086852446543, 9.382234638335452, 26.19865628662975, 39.27349697630982, 35.02030044347644, 15.587455205945123, 19.952675703897615, 31.04593370342393, 27.21656583198129, 28.548665308255803, 42.104864918843724, 22.205145660264378, 22.7976478412742, 18.165039296070308, 33.214883504873626, 21.6504005828624, 26.508023454579053, 35.0902321303497, 29.015532705355156, 56.89126023371379, 33.14612548661951, 33.02246951857616, 25.55795711623033, 25.767685970068545, 32.64757631009379, 27.442144365647195, 25.89951030693709, 28.27794455195864, 28.12791757755696, 29.257882381870125, 36.65756006057564, 27.99964712012969, 27.500876170827915], \"Total\": [228.0, 113.0, 105.0, 97.0, 87.0, 78.0, 104.0, 73.0, 69.0, 68.0, 70.0, 304.0, 74.0, 55.0, 55.0, 54.0, 51.0, 55.0, 50.0, 68.0, 71.0, 80.0, 44.0, 46.0, 68.0, 53.0, 243.0, 61.0, 43.0, 48.0, 228.46014365729454, 113.32682191768096, 97.00759630046387, 69.81070085331673, 68.90413500830826, 46.240089079330865, 43.52039446969254, 51.681580207956564, 29.01539453652776, 29.01543318105613, 26.29571679500877, 26.29604375997573, 22.669475793698297, 87.95528632829198, 19.949791812448634, 19.043338948897123, 18.13664329715625, 18.13666524499533, 18.1366698743488, 17.230077860960943, 17.230104356849342, 55.3159387711268, 18.137523996101155, 15.416950056522415, 15.416984991766165, 15.416975955833562, 15.416968780559259, 15.417052881736513, 14.510414002962486, 14.510432830982825, 39.007265604166264, 39.91699160554493, 68.99483197013049, 55.30426182768487, 24.50536199163894, 27.216754568181557, 68.13534338648732, 60.8403965534174, 26.33429057268776, 60.07737792606828, 63.63814444770083, 304.372350714666, 36.3596783566129, 87.39030123676226, 80.05500616217066, 88.3424368774559, 56.36515868068019, 243.70494154490814, 60.96847504681433, 55.614142702226516, 65.48057623150632, 92.94928287310361, 59.176219886756726, 78.85397387537148, 105.14061418234328, 55.29012269468545, 55.29012718764352, 50.76149170628678, 29.91365729186198, 27.194734035049887, 27.19472347189661, 27.195176275971278, 23.569528135692405, 22.66321404331824, 21.75692178815683, 21.756926049920885, 21.75712599120048, 20.85064929225213, 18.13172506288909, 25.387996630269807, 16.319089387041135, 16.319131347894714, 15.412815754622136, 15.412816602627103, 15.412836196646344, 15.412847419441098, 14.506498041922182, 14.50650100938817, 14.506502746255208, 12.693877466274703, 12.693916225486708, 12.693933223542738, 20.855309669043862, 48.970105700388544, 18.139456108750938, 61.69834445815156, 27.23122234170363, 37.16565736923294, 25.418198758914013, 60.73197371766287, 69.03010043512906, 25.421521403154962, 35.44109608051051, 52.62519976364694, 52.74705332206376, 48.16811046371622, 42.694006377438555, 53.487109533956215, 243.70494154490814, 133.97215507708648, 122.25141506995602, 34.49396763057494, 125.88370074776212, 97.38695157316849, 61.795378322131526, 92.94928287310361, 82.10541036996156, 51.86889424811508, 73.1897906048796, 44.827589519187, 37.508515865820684, 33.84868144940765, 31.104247032733188, 27.44431813977484, 23.784677646621528, 21.954856391768796, 21.039875071326996, 19.210132015700836, 18.295055888796185, 17.380311106662376, 17.380277625906206, 16.465402806728388, 16.465376319811764, 16.465456861982368, 15.55047838613699, 15.55049934052113, 15.550242932562975, 30.180930712913398, 12.80576157366531, 12.805745238370987, 12.80574903679851, 12.805734556084296, 12.805742677358984, 32.92953047965927, 11.890845017750184, 11.890857783523446, 11.890838984392921, 11.89082760407435, 53.043509975489904, 74.97891286943286, 28.368176470856447, 21.03393191391741, 57.51443271550704, 30.19876142229776, 41.99403325461965, 31.13443678265843, 36.521423825623124, 48.35850175559704, 28.34307810371842, 85.6781818251602, 90.52943051634999, 37.541392273013585, 90.51829302372585, 54.71229363516851, 71.49755478430035, 59.236032264786644, 304.372350714666, 167.44284844909143, 125.22146607612254, 122.25141506995602, 80.05500616217066, 46.469504808853394, 133.97215507708648, 46.52515892849139, 243.70494154490814, 37.38642103913284, 30.091526046805292, 29.179659362112222, 31.915495937283367, 26.44406977770138, 23.708476227809623, 20.97291967517654, 20.061046372691234, 18.237315530737963, 18.23731013096658, 18.237308566132327, 18.23731863013064, 19.14871962667705, 17.325447751320844, 17.32544123302893, 15.501749793088209, 15.501722822724854, 14.589889400616487, 23.713016347363798, 15.502007176661976, 13.678001713303152, 70.22367390337114, 12.766151851464903, 12.766139179073804, 11.854284869046957, 11.854289836102103, 11.854283311150732, 11.854315817181476, 10.942409477019499, 10.942437699505765, 20.968912578932276, 104.06984168891076, 53.77907066562791, 71.18861603574081, 47.50755186784265, 49.284064691953596, 42.04279148391003, 26.460186464256108, 52.09640037208711, 29.233739899790447, 53.84507907762412, 243.70494154490814, 97.8628027816799, 39.25300402052064, 38.40873802867847, 59.2123521983792, 125.22146607612254, 48.44485023748445, 51.90449538269043, 304.372350714666, 64.1248171545461, 38.342224872368, 167.44284844909143, 125.88370074776212, 133.97215507708648, 29.434391336422667, 26.67413182926181, 29.432462657908594, 24.833671663473208, 20.23357097397624, 20.233556302517336, 20.233553042141573, 27.59000508286394, 16.553270709743142, 16.553247313475534, 20.23131896759966, 15.63316488463209, 24.82690338611807, 14.713112512088594, 14.712930536982203, 13.793007957685994, 13.793014696918625, 13.792867239746824, 12.872932284455434, 12.872925609540014, 54.23986173879085, 11.952876102013374, 11.95285045687214, 11.952832993623558, 14.711889897717539, 11.032811838524307, 11.0327709286891, 11.032765141658784, 11.032078993145776, 10.112709199105009, 28.500143818429148, 44.11858642259764, 42.256869618882504, 17.456055950985668, 22.97318279086295, 37.68172802841476, 33.03878368671126, 35.81603710258448, 64.13974595924476, 28.482936589855356, 30.252260144300468, 22.055881930628235, 53.97303552661701, 29.330777293446367, 41.19851404607266, 65.96104398549096, 49.53694047562483, 167.44284844909143, 64.1248171545461, 64.11321839812906, 42.1723375784558, 47.531062455214965, 92.94928287310361, 61.333212298323105, 52.21651532173549, 71.49755478430035, 76.83195576195043, 97.8628027816799, 304.372350714666, 122.25141506995602, 125.22146607612254], \"Category\": [\"Default\", \"Default\", \"Default\", \"Default\", \"Default\", \"Default\", \"Default\", \"Default\", \"Default\", \"Default\", \"Default\", \"Default\", \"Default\", \"Default\", \"Default\", \"Default\", \"Default\", \"Default\", \"Default\", \"Default\", \"Default\", \"Default\", \"Default\", \"Default\", \"Default\", \"Default\", \"Default\", \"Default\", \"Default\", \"Default\", \"Topic1\", \"Topic1\", \"Topic1\", \"Topic1\", \"Topic1\", \"Topic1\", \"Topic1\", \"Topic1\", \"Topic1\", \"Topic1\", \"Topic1\", \"Topic1\", \"Topic1\", \"Topic1\", \"Topic1\", \"Topic1\", \"Topic1\", \"Topic1\", \"Topic1\", \"Topic1\", \"Topic1\", \"Topic1\", \"Topic1\", \"Topic1\", \"Topic1\", \"Topic1\", \"Topic1\", \"Topic1\", \"Topic1\", \"Topic1\", \"Topic1\", \"Topic1\", \"Topic1\", \"Topic1\", \"Topic1\", \"Topic1\", \"Topic1\", \"Topic1\", \"Topic1\", \"Topic1\", \"Topic1\", \"Topic1\", \"Topic1\", \"Topic1\", \"Topic1\", \"Topic1\", \"Topic1\", \"Topic1\", \"Topic1\", \"Topic1\", \"Topic1\", \"Topic1\", \"Topic1\", \"Topic2\", \"Topic2\", \"Topic2\", \"Topic2\", \"Topic2\", \"Topic2\", \"Topic2\", \"Topic2\", \"Topic2\", \"Topic2\", \"Topic2\", \"Topic2\", \"Topic2\", \"Topic2\", \"Topic2\", \"Topic2\", \"Topic2\", \"Topic2\", \"Topic2\", \"Topic2\", \"Topic2\", \"Topic2\", \"Topic2\", \"Topic2\", \"Topic2\", \"Topic2\", \"Topic2\", \"Topic2\", \"Topic2\", \"Topic2\", \"Topic2\", \"Topic2\", \"Topic2\", \"Topic2\", \"Topic2\", \"Topic2\", \"Topic2\", \"Topic2\", \"Topic2\", \"Topic2\", \"Topic2\", \"Topic2\", \"Topic2\", \"Topic2\", \"Topic2\", \"Topic2\", \"Topic2\", \"Topic2\", \"Topic2\", \"Topic2\", \"Topic2\", \"Topic2\", \"Topic2\", \"Topic2\", \"Topic2\", \"Topic3\", \"Topic3\", \"Topic3\", \"Topic3\", \"Topic3\", \"Topic3\", \"Topic3\", \"Topic3\", \"Topic3\", \"Topic3\", \"Topic3\", \"Topic3\", \"Topic3\", \"Topic3\", \"Topic3\", \"Topic3\", \"Topic3\", \"Topic3\", \"Topic3\", \"Topic3\", \"Topic3\", \"Topic3\", \"Topic3\", \"Topic3\", \"Topic3\", \"Topic3\", \"Topic3\", \"Topic3\", \"Topic3\", \"Topic3\", \"Topic3\", \"Topic3\", \"Topic3\", \"Topic3\", \"Topic3\", \"Topic3\", \"Topic3\", \"Topic3\", \"Topic3\", \"Topic3\", \"Topic3\", \"Topic3\", \"Topic3\", \"Topic3\", \"Topic3\", \"Topic3\", \"Topic3\", \"Topic3\", \"Topic3\", \"Topic3\", \"Topic3\", \"Topic3\", \"Topic3\", \"Topic3\", \"Topic3\", \"Topic3\", \"Topic3\", \"Topic4\", \"Topic4\", \"Topic4\", \"Topic4\", \"Topic4\", \"Topic4\", \"Topic4\", \"Topic4\", \"Topic4\", \"Topic4\", \"Topic4\", \"Topic4\", \"Topic4\", \"Topic4\", \"Topic4\", \"Topic4\", \"Topic4\", \"Topic4\", \"Topic4\", \"Topic4\", \"Topic4\", \"Topic4\", \"Topic4\", \"Topic4\", \"Topic4\", \"Topic4\", \"Topic4\", \"Topic4\", \"Topic4\", \"Topic4\", \"Topic4\", \"Topic4\", \"Topic4\", \"Topic4\", \"Topic4\", \"Topic4\", \"Topic4\", \"Topic4\", \"Topic4\", \"Topic4\", \"Topic4\", \"Topic4\", \"Topic4\", \"Topic4\", \"Topic4\", \"Topic4\", \"Topic4\", \"Topic4\", \"Topic4\", \"Topic4\", \"Topic4\", \"Topic4\", \"Topic4\", \"Topic4\", \"Topic4\", \"Topic5\", \"Topic5\", \"Topic5\", \"Topic5\", \"Topic5\", \"Topic5\", \"Topic5\", \"Topic5\", \"Topic5\", \"Topic5\", \"Topic5\", \"Topic5\", \"Topic5\", \"Topic5\", \"Topic5\", \"Topic5\", \"Topic5\", \"Topic5\", \"Topic5\", \"Topic5\", \"Topic5\", \"Topic5\", \"Topic5\", \"Topic5\", \"Topic5\", \"Topic5\", \"Topic5\", \"Topic5\", \"Topic5\", \"Topic5\", \"Topic5\", \"Topic5\", \"Topic5\", \"Topic5\", \"Topic5\", \"Topic5\", \"Topic5\", \"Topic5\", \"Topic5\", \"Topic5\", \"Topic5\", \"Topic5\", \"Topic5\", \"Topic5\", \"Topic5\", \"Topic5\", \"Topic5\", \"Topic5\", \"Topic5\", \"Topic5\", \"Topic5\", \"Topic5\", \"Topic5\", \"Topic5\", \"Topic5\", \"Topic5\", \"Topic5\", \"Topic5\", \"Topic5\", \"Topic5\", \"Topic5\"], \"logprob\": [30.0, 29.0, 28.0, 27.0, 26.0, 25.0, 24.0, 23.0, 22.0, 21.0, 20.0, 19.0, 18.0, 17.0, 16.0, 15.0, 14.0, 13.0, 12.0, 11.0, 10.0, 9.0, 8.0, 7.0, 6.0, 5.0, 4.0, 3.0, 2.0, 1.0, -3.6282, -4.3332, -4.4887, -4.8207, -4.8339, -5.238, -5.2996, -5.1279, -5.7136, -5.7138, -5.8148, -5.816, -5.9678, -4.6141, -6.1003, -6.1489, -6.1992, -6.1994, -6.1994, -6.2526, -6.2529, -5.0895, -6.2048, -6.369, -6.3692, -6.3692, -6.3693, -6.3699, -6.433, -6.4331, -5.5035, -5.4933, -4.9983, -5.2115, -5.9548, -5.878, -5.0991, -5.2369, -5.9253, -5.2927, -5.2735, -4.1778, -5.7007, -5.08, -5.154, -5.2734, -5.5415, -5.0556, -5.5955, -5.6443, -5.6366, -5.6072, -5.6995, -4.689, -4.4014, -5.048, -5.048, -5.1408, -5.6738, -5.7715, -5.7715, -5.7726, -5.9189, -5.9595, -6.0016, -6.0016, -6.0026, -6.0458, -6.191, -5.8583, -6.3008, -6.3011, -6.3609, -6.3609, -6.3612, -6.3612, -6.4245, -6.4245, -6.4245, -6.5655, -6.5657, -6.5659, -6.0705, -5.2258, -6.2206, -5.1261, -5.8736, -5.6078, -5.9437, -5.2199, -5.1341, -5.9536, -5.6896, -5.3747, -5.4209, -5.5297, -5.6242, -5.4917, -4.7379, -5.0666, -5.1417, -5.7989, -5.3146, -5.4436, -5.6746, -5.7316, -5.7621, -5.8121, -4.7271, -5.2238, -5.4062, -5.5102, -5.5984, -5.725, -5.8724, -5.9551, -5.9995, -6.0937, -6.1453, -6.198, -6.1981, -6.2543, -6.2544, -6.2551, -6.3143, -6.3143, -6.3191, -5.6577, -6.5191, -6.5191, -6.5193, -6.5194, -6.5194, -5.5784, -6.5978, -6.5979, -6.598, -6.598, -5.1248, -4.8817, -5.8031, -6.1, -5.259, -5.7992, -5.5473, -5.7923, -5.6705, -5.4817, -5.8841, -5.0896, -5.0721, -5.6988, -5.1127, -5.452, -5.3095, -5.4758, -4.6834, -5.0421, -5.3139, -5.4372, -5.6087, -5.7542, -5.6016, -5.7579, -5.6097, -5.405, -5.6269, -5.6585, -5.5694, -5.7596, -5.8723, -5.9988, -6.045, -6.144, -6.144, -6.144, -6.1441, -6.0973, -6.1975, -6.1976, -6.3139, -6.314, -6.3778, -5.894, -6.3197, -6.4457, -4.8101, -6.5189, -6.5191, -6.5974, -6.5976, -6.5978, -6.6, -6.6833, -6.6836, -6.0334, -4.5285, -5.268, -5.0658, -5.4336, -5.4367, -5.5906, -5.9672, -5.4666, -5.8953, -5.5084, -4.5692, -5.2048, -5.7617, -5.7754, -5.571, -5.2417, -5.688, -5.6769, -4.9045, -5.5911, -5.8226, -5.3562, -5.4494, -5.5282, -5.6217, -5.7228, -5.6262, -5.7985, -6.0082, -6.0082, -6.0083, -5.6987, -6.2172, -6.2173, -6.0182, -6.2773, -5.8162, -6.3409, -6.3431, -6.409, -6.409, -6.4102, -6.4821, -6.4822, -5.0459, -6.5607, -6.561, -6.5611, -6.3562, -6.6462, -6.6465, -6.6466, -6.651, -6.7399, -5.713, -5.3081, -5.4228, -6.2322, -5.9853, -5.5432, -5.6749, -5.6271, -5.2385, -5.8784, -5.852, -6.0792, -5.4757, -5.9037, -5.7012, -5.4208, -5.6109, -4.9375, -5.4778, -5.4815, -5.7377, -5.7296, -5.4929, -5.6666, -5.7245, -5.6366, -5.6419, -5.6025, -5.3771, -5.6465, -5.6645], \"loglift\": [30.0, 29.0, 28.0, 27.0, 26.0, 25.0, 24.0, 23.0, 22.0, 21.0, 20.0, 19.0, 18.0, 17.0, 16.0, 15.0, 14.0, 13.0, 12.0, 11.0, 10.0, 9.0, 8.0, 7.0, 6.0, 5.0, 4.0, 3.0, 2.0, 1.0, 1.57, 1.5661, 1.566, 1.5631, 1.5629, 1.5576, 1.5566, 1.5565, 1.5481, 1.5478, 1.5453, 1.5441, 1.5407, 1.5386, 1.536, 1.5339, 1.5324, 1.5322, 1.5322, 1.5302, 1.53, 1.527, 1.5268, 1.525, 1.5248, 1.5248, 1.5247, 1.5242, 1.5216, 1.5216, 1.4622, 1.4494, 1.3972, 1.4051, 1.4758, 1.4477, 1.3089, 1.2843, 1.4333, 1.2412, 1.2028, 0.7335, 1.3354, 1.0791, 1.0928, 0.8749, 1.0561, 0.0779, 0.9236, 0.9668, 0.8112, 0.4903, 0.8494, 1.5729, 1.5728, 1.5689, 1.5689, 1.5616, 1.5574, 1.555, 1.5549, 1.5538, 1.5507, 1.5493, 1.548, 1.548, 1.5469, 1.5464, 1.5409, 1.5369, 1.5363, 1.5361, 1.5334, 1.5334, 1.5332, 1.5331, 1.5305, 1.5304, 1.5304, 1.5229, 1.5227, 1.5225, 1.5214, 1.5125, 1.5108, 1.3812, 1.4515, 1.4063, 1.4503, 1.3031, 1.2609, 1.4403, 1.372, 1.2916, 1.2431, 1.2251, 1.2512, 1.1584, 0.3957, 0.6653, 0.6818, 1.2898, 0.4795, 0.6072, 0.8311, 0.3659, 0.4594, 0.8687, 1.6093, 1.6029, 1.5987, 1.5975, 1.5938, 1.5923, 1.5881, 1.5855, 1.5836, 1.5804, 1.5775, 1.5762, 1.5761, 1.5739, 1.5738, 1.5731, 1.5711, 1.5711, 1.5663, 1.5646, 1.5606, 1.5605, 1.5604, 1.5602, 1.5602, 1.5568, 1.5559, 1.5558, 1.5558, 1.5557, 1.5336, 1.4306, 1.4812, 1.4834, 1.3185, 1.4226, 1.3447, 1.3989, 1.3611, 1.2691, 1.401, 1.0893, 1.0518, 1.3053, 1.0112, 1.1755, 1.0504, 1.0721, 0.2279, 0.4668, 0.4855, 0.3862, 0.6381, 1.0365, 0.1302, 1.0316, -0.4762, 1.6032, 1.5983, 1.5976, 1.5971, 1.5948, 1.5914, 1.5875, 1.5858, 1.5821, 1.5821, 1.582, 1.582, 1.58, 1.5798, 1.5798, 1.5746, 1.5746, 1.5714, 1.5695, 1.5688, 1.568, 1.5677, 1.5638, 1.5636, 1.5594, 1.5592, 1.559, 1.5568, 1.5536, 1.5532, 1.5531, 1.4559, 1.3766, 1.2983, 1.335, 1.2952, 1.3003, 1.3867, 1.2098, 1.3588, 1.1351, 0.5643, 0.8411, 1.1978, 1.2058, 0.9774, 0.5578, 1.0611, 1.0032, 0.0068, 0.8776, 1.1604, 0.1527, 0.3447, 0.2037, 1.6257, 1.623, 1.6212, 1.6188, 1.614, 1.6139, 1.6139, 1.6134, 1.6057, 1.6056, 1.6041, 1.6028, 1.6014, 1.5998, 1.5977, 1.5963, 1.5963, 1.5952, 1.5923, 1.5922, 1.5902, 1.5878, 1.5876, 1.5874, 1.5846, 1.5824, 1.5822, 1.582, 1.5777, 1.5758, 1.5666, 1.5345, 1.463, 1.5376, 1.5099, 1.4571, 1.457, 1.424, 1.2299, 1.4018, 1.3679, 1.4567, 1.1653, 1.3472, 1.2099, 1.0197, 1.1159, 0.5713, 0.9909, 0.9874, 1.15, 1.0386, 0.6045, 0.8466, 0.9496, 0.7232, 0.646, 0.4434, -0.4658, 0.1769, 0.135]}, \"token.table\": {\"Topic\": [1, 2, 4, 1, 2, 3, 1, 2, 3, 4, 5, 2, 3, 1, 4, 5, 2, 2, 1, 4, 2, 1, 3, 2, 5, 2, 2, 3, 4, 5, 1, 2, 3, 4, 5, 5, 1, 3, 4, 5, 2, 3, 4, 5, 4, 1, 5, 3, 2, 3, 5, 5, 4, 2, 3, 5, 3, 2, 3, 4, 5, 1, 3, 4, 1, 3, 4, 1, 3, 4, 5, 2, 4, 5, 3, 1, 1, 1, 4, 1, 2, 3, 2, 1, 3, 4, 4, 5, 1, 1, 3, 4, 5, 5, 1, 2, 4, 5, 5, 4, 3, 2, 3, 4, 5, 4, 5, 1, 1, 2, 3, 5, 2, 4, 2, 2, 2, 3, 4, 2, 1, 3, 4, 5, 3, 3, 2, 3, 2, 5, 4, 1, 5, 1, 4, 3, 1, 2, 2, 5, 2, 1, 1, 5, 1, 1, 4, 4, 5, 1, 3, 5, 3, 2, 3, 3, 2, 1, 4, 5, 4, 4, 5, 1, 2, 3, 4, 3, 5, 1, 2, 3, 5, 3, 2, 5, 4, 5, 3, 4, 4, 2, 3, 4, 1, 2, 2, 3, 4, 5, 2, 3, 4, 5, 4, 4, 4, 1, 4, 3, 1, 3, 4, 5, 4, 2, 3, 4, 5, 1, 2, 3, 2, 3, 4, 1, 2, 4, 5, 3, 4, 4, 5, 4, 5, 4, 2, 3, 5, 2, 3, 4, 1, 4, 5, 5, 4, 1, 3, 2, 3, 2, 3, 5, 1, 3, 5, 3, 4, 5, 5, 1, 5, 5, 2, 3, 4, 1, 2, 5, 1, 3, 5, 2, 5, 2, 3, 4, 4, 1, 5, 1, 3, 4, 5, 1, 4, 4, 4, 3, 4, 5, 1, 2, 3, 4, 4, 5, 1, 3, 4, 5, 2, 3, 4, 5, 4, 1, 3, 2, 5, 3, 4, 5, 3, 4, 3, 3, 4, 3, 2, 4, 5, 2, 3, 1, 2, 4, 5, 1, 1, 3, 4, 5, 3, 4, 5, 4, 5, 5, 4, 5, 1, 5, 2, 3, 5, 1, 3, 4, 5, 3, 1, 2, 4, 3, 4, 4, 5, 5, 3, 4, 5, 2, 5, 3, 1, 5, 5, 3, 5, 1, 3, 4, 3, 4, 1, 2, 3, 4, 5, 2, 5, 1, 3, 4, 5, 1, 2, 1, 3, 4, 2, 3, 1, 2, 3, 4, 2, 4, 1, 2, 5, 5, 5, 1, 3, 5, 5, 2, 1, 4, 5, 1, 3, 2, 3, 2, 1, 1, 2, 3, 5, 1, 2, 2, 3, 5, 3, 2, 1, 5, 5, 3, 2, 2, 1, 4, 2, 1, 2, 4, 5, 2, 3, 1, 3, 5, 2, 1, 5, 3, 2, 5, 2, 5, 1, 3, 4, 5, 1, 2, 4, 5, 1, 1, 3, 4, 2, 3, 4, 2, 4, 5, 4], \"Freq\": [0.9729485988706333, 0.753754983435248, 0.23192461028776865, 0.9883871549288676, 0.9393485952723811, 0.061261864909068334, 0.13453280135276657, 0.8341033683871527, 0.8278485216794631, 0.06622788173435705, 0.09934182260153557, 0.21904951017783889, 0.7666732856224361, 0.7975868134907644, 0.02750299356864705, 0.1650179614118823, 0.9650847475070511, 0.956051901857783, 0.9880425148707018, 0.971315001995194, 0.9560678205413174, 0.6914092229096989, 0.29856307352918815, 0.8654084722588503, 0.11801024621711595, 0.9732160715346035, 0.40306883149658107, 0.2239271286092117, 0.23885560384982582, 0.13435627716552703, 0.21563463750297532, 0.3799276946480994, 0.06160989642942152, 0.17456137321669432, 0.16429305714512407, 0.9852420479344126, 0.9650049722656892, 0.24224346285384188, 0.16149564190256124, 0.5854217018967846, 0.9589883975535773, 0.04794941987767887, 0.9279320856338885, 0.974727131380438, 0.9812156224767101, 0.8733859731863872, 0.1139199095460505, 0.9370801766540231, 0.7204193904061146, 0.1327088350748106, 0.1327088350748106, 0.939137978617627, 0.9869873649804446, 0.15320823212172383, 0.3447185222738786, 0.4979267543956024, 0.9749271932297823, 0.14037666841355503, 0.21836370642108563, 0.10918185321054281, 0.5147144508497018, 0.23643121814816082, 0.5588374247138346, 0.1934437239394043, 0.6120791484387462, 0.37474233577882426, 0.9279346301478091, 0.7560765972261926, 0.049309343297360385, 0.18080092542365475, 0.9664297863493372, 0.021049285022764753, 0.7577742608195311, 0.23154213525041228, 0.9815383890130256, 0.970467963185792, 0.9868783635670161, 0.8972687384747559, 0.10254499868282925, 0.9868119317324661, 0.3472711293497481, 0.6397099751179569, 0.9650844345384376, 0.30825846358841247, 0.13486307781993045, 0.5394523112797218, 0.7525550981644227, 0.20524229949938802, 0.9373277705884225, 0.6064746230409448, 0.10298625674280194, 0.11442917415866882, 0.17164376123800323, 0.9202839197927501, 0.02608090697211125, 0.13040453486055625, 0.6259417673306701, 0.23472816274900127, 0.9321885437469803, 0.9138755062128974, 0.937005533605299, 0.3336412875576082, 0.19065216431863327, 0.27803440629800685, 0.1985960044985763, 0.09066473621084087, 0.8839811780556984, 0.9882920751219447, 0.28011798906956004, 0.12838741165688167, 0.5835791438949167, 0.9063910879640544, 0.8103945160783649, 0.17828679353724028, 0.9732147807594184, 0.9891701859348118, 0.20864328192816478, 0.7476384269092572, 0.0347738803213608, 0.9947527210911157, 0.4980618777930537, 0.1018762931849428, 0.24903093889652686, 0.14715464571158404, 0.983810195702006, 0.9644985126445559, 0.4303897810460332, 0.5595067153598432, 0.8182591174415582, 0.16929498981549482, 0.9536106707962037, 0.715743620717205, 0.26632320770872747, 0.04768964514663065, 0.953792902932613, 0.9645992499361965, 0.9729534535807728, 0.9560674491793133, 0.9371835571077991, 0.055128444535752885, 0.9707360993877311, 0.9286086881970514, 0.8977627021998797, 0.08161479110907997, 0.9729550880690557, 0.9581325234177233, 0.03615594427991409, 0.9277605040931777, 0.04217093200423535, 0.31554536130749733, 0.024272720100576715, 0.6553634427155713, 0.9717345022049381, 0.405158804234547, 0.5739749726656083, 0.9838723701862603, 0.9592027432657351, 0.5394311328438215, 0.1078862265687643, 0.3416397174677536, 0.9676166337080697, 0.08705802840673228, 0.8705802840673229, 0.084441840500585, 0.202660417201404, 0.202660417201404, 0.523539411103627, 0.15922836647713087, 0.8226798934651762, 0.1542350211232953, 0.4819844410102978, 0.23135253168494296, 0.11567626584247148, 0.9717360653790946, 0.37055540428399514, 0.6114164170685921, 0.16565353901350152, 0.8282676950675076, 0.9414042516989074, 0.030367879087061532, 0.9504312305617179, 0.7260972354279172, 0.16395744025791678, 0.11711245732708342, 0.8498440888053256, 0.14465431298814052, 0.32884556423675104, 0.21923037615783403, 0.2557687721841397, 0.19487144547363025, 0.40899322082602035, 0.29447511899473466, 0.07361877974868367, 0.2290362036625714, 0.9812159916361314, 0.9676326995477682, 0.9676343830642262, 0.8768195846487112, 0.10020795253128129, 0.9250827920699892, 0.16569197347696712, 0.5633527098216882, 0.055230657825655706, 0.20987649973749167, 0.9701171757728322, 0.07428719705720037, 0.2414333904359012, 0.612869375721903, 0.05571539779290028, 0.13301612215134132, 0.7410898234146159, 0.114013818986864, 0.9375831555484241, 0.2637769445611992, 0.7304592310925517, 0.2912839194246577, 0.46929075907305967, 0.09709463980821924, 0.12945951974429232, 0.2668966059188579, 0.7164066790453554, 0.0701750844747223, 0.9122760981713899, 0.9896641339718405, 0.9515439473332528, 0.986987657211376, 0.02663726461521898, 0.7192061446109125, 0.21309811692175185, 0.9891515358625818, 0.3311848436670955, 0.662369687334191, 0.9948077721277967, 0.6508935539963163, 0.3384646480780845, 0.9516112543890106, 0.9399856855551199, 0.9729528833303744, 0.9837437626881217, 0.9650845500882412, 0.9565081923229165, 0.4207774656593156, 0.04207774656593156, 0.5470107053571103, 0.9523908910239371, 0.8029693992706093, 0.19271265582494623, 0.9646005497407891, 0.9637264642176173, 0.906447461644627, 0.9884562653682512, 0.9979858908870127, 0.9594986114900822, 0.951532178422296, 0.9947526402560282, 0.9781201638954614, 0.9869877418988774, 0.524861413631044, 0.2132249492876116, 0.262430706815522, 0.9452123941239019, 0.9505759864161869, 0.9202806007624501, 0.8655215976814536, 0.11802567241110733, 0.018852447744541704, 0.9237699394825435, 0.05655734323362511, 0.9595686173884524, 0.9373275313371379, 0.9425065250365422, 0.07580231751789464, 0.10612324452505249, 0.28804880656799964, 0.5306162226252624, 0.9664001283872647, 0.022738826550288582, 0.9832072074595781, 0.9138731491659914, 0.22706231820464362, 0.5779768099754565, 0.18577826034925388, 0.22568274426993926, 0.3036458741086456, 0.12309967869269414, 0.3487824229626334, 0.4678375912978828, 0.5146213504276711, 0.1118019173445019, 0.3194340495557197, 0.34339160327239865, 0.2236038346890038, 0.17934818001210004, 0.29347884001980007, 0.08152190000550001, 0.4402182600297001, 0.9399866186380252, 0.9286072602131195, 0.9864426556454593, 0.9732160179887731, 0.8899692281071936, 0.8812691935163092, 0.03525076774065237, 0.07050153548130474, 0.18896314305094858, 0.793645200813984, 0.9250814373225481, 0.8557601153063558, 0.09508445725626176, 0.9370793949612037, 0.00960893169213455, 0.8455859889078404, 0.13452504368988372, 0.9694568509979373, 0.9781182796827732, 0.4734228344356595, 0.25961897372278103, 0.09163022601980507, 0.18326045203961014, 0.9372833912530907, 0.4303938898931263, 0.24969416512883666, 0.1971269724701342, 0.12156163302324942, 0.11517110505037423, 0.6526362619521207, 0.23034221010074846, 0.19544317479766293, 0.809693152733175, 0.9425060645302012, 0.3793956161484815, 0.6165178762412824, 0.9648242977176062, 0.9321890271087175, 0.2895044199416214, 0.7030821627153662, 0.9884569821031275, 0.05109193542263853, 0.19414935460602642, 0.4598274188037468, 0.2963332254513035, 0.9717313120501943, 0.31783358921662375, 0.6543632719165783, 0.01869609348333081, 0.8114856091435798, 0.176409915031213, 0.7135587086666483, 0.26163819317777104, 0.9425161407004612, 0.8268991590737766, 0.16004499853040838, 0.966576351015785, 0.23138767042894154, 0.7602737742665222, 0.9250804441746951, 0.05530987550166418, 0.9402678835282909, 0.9202825752476214, 0.1360181383558281, 0.8161088301349685, 0.03313350438103401, 0.9608716270499863, 0.9595725451255978, 0.04272063583753887, 0.9398539884258551, 0.13015417739700844, 0.06507708869850422, 0.2733237725337177, 0.16920043061611095, 0.3644316967116236, 0.8813412669781212, 0.11016765837226515, 0.1134715526878813, 0.31652591012935305, 0.2269431053757626, 0.34041465806364385, 0.23052107716908163, 0.7574263964126968, 0.4900617182965758, 0.3717709587077471, 0.13518943953008986, 0.9804468632119558, 0.96461515521338, 0.8406426734267515, 0.014493839197012956, 0.14493839197012956, 0.9400106300017725, 0.9758362521127463, 0.9471091211804575, 0.9887418897428849, 0.04027888554797167, 0.96669325315132, 0.906387251623567, 0.9390342843111943, 0.027972984615120936, 0.5594596923024188, 0.3916217846116931, 0.9063906125338349, 0.9652100699020367, 0.9373289048842642, 0.9869871972440862, 0.966577717169419, 0.9648230458092922, 0.937078199603346, 0.23812906798848446, 0.7620130175631502, 0.9453376268899548, 0.9896132226867779, 0.015590956668824556, 0.2182733933635438, 0.1091366966817719, 0.6548201800906314, 0.9887541839108603, 0.9652010108547107, 0.984998634187252, 0.9370791170057202, 0.97861526008814, 0.9370795823670918, 0.9804443422207099, 0.2386571596779357, 0.7500653589877979, 0.9853066098160023, 0.9250819067046342, 0.9652098808359172, 0.9453347404252227, 0.8818097668433185, 0.11022622085541481, 0.9732140721175018, 0.6032095144558494, 0.14193165046019984, 0.12419019415267488, 0.14193165046019984, 0.7058611947340412, 0.2906487272434287, 0.9729539064070069, 0.21065243680446186, 0.7723922682830269, 0.945333474556512, 0.1513372903619052, 0.8172213679542882, 0.9670091115683888, 0.9453286271270843, 0.03938869279696185, 0.05728670914024736, 0.9165873462439578, 0.12152239765631438, 0.5413270441054004, 0.1546648697444001, 0.17675985113645729, 0.3335152143381448, 0.30123954843445333, 0.010758555301230476, 0.3550323249406057, 0.9650036870130515, 0.7631868779913231, 0.2201500609590355, 0.927934119385172, 0.11156756570423242, 0.09297297142019367, 0.7809729599296269, 0.7243217043699282, 0.21729651131097846, 0.057945736349594254, 0.9279345081981619], \"Term\": [\"50\", \"abuse\", \"abuse\", \"accused\", \"act\", \"act\", \"afl\", \"afl\", \"aid\", \"aid\", \"aid\", \"air\", \"air\", \"alleged\", \"alleged\", \"alleged\", \"analysis\", \"announces\", \"arrested\", \"assault\", \"asylum\", \"attack\", \"attack\", \"aussie\", \"aussie\", \"aussies\", \"australia\", \"australia\", \"australia\", \"australia\", \"australian\", \"australian\", \"australian\", \"australian\", \"australian\", \"backs\", \"bail\", \"ban\", \"ban\", \"ban\", \"bank\", \"bank\", \"basin\", \"battle\", \"beach\", \"blaze\", \"blaze\", \"book\", \"boost\", \"boost\", \"boost\", \"broken\", \"broncos\", \"budget\", \"budget\", \"budget\", \"bushfire\", \"calls\", \"calls\", \"calls\", \"calls\", \"canberra\", \"canberra\", \"canberra\", \"car\", \"car\", \"card\", \"case\", \"case\", \"case\", \"central\", \"change\", \"change\", \"change\", \"changes\", \"charge\", \"charged\", \"charges\", \"charges\", \"child\", \"china\", \"china\", \"church\", \"claims\", \"claims\", \"claims\", \"climate\", \"climate\", \"closer\", \"coast\", \"coast\", \"coast\", \"coast\", \"collapse\", \"company\", \"company\", \"company\", \"company\", \"compensation\", \"competition\", \"conditions\", \"council\", \"council\", \"council\", \"council\", \"country\", \"country\", \"court\", \"crash\", \"crash\", \"crash\", \"cruise\", \"cup\", \"cup\", \"dairy\", \"day\", \"dead\", \"dead\", \"dead\", \"deal\", \"death\", \"death\", \"death\", \"death\", \"debate\", \"decision\", \"defends\", \"defends\", \"denies\", \"denies\", \"despite\", \"dies\", \"dies\", \"discuss\", \"discuss\", \"doctors\", \"dogs\", \"dollar\", \"domestic\", \"domestic\", \"donald\", \"drink\", \"driver\", \"driver\", \"driving\", \"drug\", \"drug\", \"drum\", \"drum\", \"east\", \"east\", \"east\", \"education\", \"election\", \"election\", \"emergency\", \"ends\", \"face\", \"face\", \"face\", \"facebook\", \"fall\", \"fall\", \"fears\", \"fears\", \"fears\", \"fears\", \"federal\", \"federal\", \"final\", \"final\", \"final\", \"final\", \"finds\", \"funding\", \"funding\", \"funds\", \"funds\", \"gas\", \"gas\", \"general\", \"gets\", \"gets\", \"gets\", \"gold\", \"gold\", \"government\", \"government\", \"government\", \"government\", \"govt\", \"govt\", \"govt\", \"govt\", \"grain\", \"grandstand\", \"great\", \"guilty\", \"guilty\", \"heads\", \"health\", \"health\", \"health\", \"health\", \"hears\", \"help\", \"help\", \"help\", \"help\", \"high\", \"high\", \"high\", \"higher\", \"hit\", \"hit\", \"home\", \"home\", \"home\", \"home\", \"hospital\", \"hospital\", \"hour\", \"hour\", \"housing\", \"howard\", \"human\", \"inquiry\", \"inquiry\", \"inquiry\", \"interview\", \"iraq\", \"iraq\", \"jailed\", \"jobs\", \"jobs\", \"joins\", \"judge\", \"kill\", \"killed\", \"lanka\", \"law\", \"lead\", \"lead\", \"lead\", \"leaders\", \"legal\", \"legal\", \"link\", \"live\", \"livestock\", \"loss\", \"man\", \"march\", \"marine\", \"market\", \"match\", \"meeting\", \"melbourne\", \"melbourne\", \"melbourne\", \"men\", \"mental\", \"middle\", \"million\", \"million\", \"missing\", \"missing\", \"missing\", \"monday\", \"mother\", \"moves\", \"mp\", \"mp\", \"mp\", \"mp\", \"murder\", \"murder\", \"murray\", \"mystery\", \"national\", \"national\", \"national\", \"new\", \"new\", \"new\", \"new\", \"north\", \"north\", \"nsw\", \"nsw\", \"nsw\", \"nsw\", \"nt\", \"nt\", \"nt\", \"nt\", \"number\", \"numbers\", \"opposition\", \"orders\", \"origin\", \"pacific\", \"pacific\", \"pacific\", \"pakistan\", \"pakistan\", \"patients\", \"peter\", \"peter\", \"pipeline\", \"plan\", \"plan\", \"plan\", \"plane\", \"planned\", \"plans\", \"plans\", \"plans\", \"plans\", \"pleads\", \"police\", \"police\", \"police\", \"police\", \"port\", \"port\", \"port\", \"price\", \"price\", \"private\", \"probe\", \"probe\", \"problems\", \"protests\", \"public\", \"public\", \"puts\", \"qld\", \"qld\", \"qld\", \"qld\", \"quake\", \"queensland\", \"queensland\", \"queensland\", \"rail\", \"rail\", \"rain\", \"rain\", \"real\", \"report\", \"report\", \"rescue\", \"research\", \"research\", \"response\", \"rise\", \"rise\", \"rock\", \"rudd\", \"rudd\", \"rules\", \"rules\", \"run\", \"rural\", \"rural\", \"sa\", \"sa\", \"sa\", \"sa\", \"sa\", \"sale\", \"sale\", \"says\", \"says\", \"says\", \"says\", \"school\", \"school\", \"search\", \"search\", \"search\", \"seekers\", \"sell\", \"sex\", \"sex\", \"sex\", \"sexual\", \"share\", \"shire\", \"shooting\", \"site\", \"site\", \"smoking\", \"sought\", \"south\", \"south\", \"south\", \"sport\", \"sri\", \"stabbing\", \"stay\", \"stolen\", \"stop\", \"storms\", \"study\", \"study\", \"survey\", \"sydney\", \"talks\", \"talks\", \"talks\", \"talks\", \"teen\", \"telstra\", \"test\", \"tests\", \"thousands\", \"threaten\", \"tipped\", \"tour\", \"tour\", \"tourism\", \"towns\", \"trade\", \"trading\", \"train\", \"train\", \"transport\", \"trial\", \"trial\", \"trial\", \"trial\", \"trump\", \"trump\", \"turnbull\", \"uk\", \"uk\", \"uranium\", \"victoria\", \"victoria\", \"victory\", \"violence\", \"violence\", \"visit\", \"visit\", \"wa\", \"wa\", \"wa\", \"wa\", \"water\", \"water\", \"water\", \"water\", \"western\", \"woman\", \"woman\", \"womens\", \"work\", \"work\", \"work\", \"world\", \"world\", \"world\", \"zealand\"]}, \"R\": 30, \"lambda.step\": 0.01, \"plot.opts\": {\"xlab\": \"PC1\", \"ylab\": \"PC2\"}, \"topic.order\": [1, 5, 4, 3, 2]};\n",
              "\n",
              "function LDAvis_load_lib(url, callback){\n",
              "  var s = document.createElement('script');\n",
              "  s.src = url;\n",
              "  s.async = true;\n",
              "  s.onreadystatechange = s.onload = callback;\n",
              "  s.onerror = function(){console.warn(\"failed to load library \" + url);};\n",
              "  document.getElementsByTagName(\"head\")[0].appendChild(s);\n",
              "}\n",
              "\n",
              "if(typeof(LDAvis) !== \"undefined\"){\n",
              "   // already loaded: just create the visualization\n",
              "   !function(LDAvis){\n",
              "       new LDAvis(\"#\" + \"ldavis_el561402518433192488885793208\", ldavis_el561402518433192488885793208_data);\n",
              "   }(LDAvis);\n",
              "}else if(typeof define === \"function\" && define.amd){\n",
              "   // require.js is available: use it to load d3/LDAvis\n",
              "   require.config({paths: {d3: \"https://d3js.org/d3.v5\"}});\n",
              "   require([\"d3\"], function(d3){\n",
              "      window.d3 = d3;\n",
              "      LDAvis_load_lib(\"https://cdn.jsdelivr.net/gh/bmabey/pyLDAvis@3.3.1/pyLDAvis/js/ldavis.v3.0.0.js\", function(){\n",
              "        new LDAvis(\"#\" + \"ldavis_el561402518433192488885793208\", ldavis_el561402518433192488885793208_data);\n",
              "      });\n",
              "    });\n",
              "}else{\n",
              "    // require.js not available: dynamically load d3 & LDAvis\n",
              "    LDAvis_load_lib(\"https://d3js.org/d3.v5.js\", function(){\n",
              "         LDAvis_load_lib(\"https://cdn.jsdelivr.net/gh/bmabey/pyLDAvis@3.3.1/pyLDAvis/js/ldavis.v3.0.0.js\", function(){\n",
              "                 new LDAvis(\"#\" + \"ldavis_el561402518433192488885793208\", ldavis_el561402518433192488885793208_data);\n",
              "            })\n",
              "         });\n",
              "}\n",
              "</script>"
            ]
          },
          "metadata": {},
          "execution_count": 43
        }
      ]
    },
    {
      "cell_type": "code",
      "source": [],
      "metadata": {
        "id": "ooauqa2nn7vS"
      },
      "execution_count": null,
      "outputs": []
    }
  ]
}